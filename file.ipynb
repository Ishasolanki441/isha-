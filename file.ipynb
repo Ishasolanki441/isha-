{
  "nbformat": 4,
  "nbformat_minor": 0,
  "metadata": {
    "colab": {
      "provenance": [],
      "authorship_tag": "ABX9TyM6XJvvZCc/LCrjcMS0GrJF",
      "include_colab_link": true
    },
    "kernelspec": {
      "name": "python3",
      "display_name": "Python 3"
    },
    "language_info": {
      "name": "python"
    }
  },
  "cells": [
    {
      "cell_type": "markdown",
      "metadata": {
        "id": "view-in-github",
        "colab_type": "text"
      },
      "source": [
        "<a href=\"https://colab.research.google.com/github/Ishasolanki441/isha-/blob/main/file.ipynb\" target=\"_parent\"><img src=\"https://colab.research.google.com/assets/colab-badge.svg\" alt=\"Open In Colab\"/></a>"
      ]
    },
    {
      "cell_type": "code",
      "execution_count": 5,
      "metadata": {
        "colab": {
          "base_uri": "https://localhost:8080/"
        },
        "id": "EdVN6P_ha303",
        "outputId": "3c3cd4e7-25ca-46eb-9677-bb6f1b8dcfad"
      },
      "outputs": [
        {
          "output_type": "stream",
          "name": "stdout",
          "text": [
            "True\n"
          ]
        }
      ],
      "source": [
        "str1 = \"Company\"\n",
        "\n",
        "a = str1.isalpha()\n",
        "\n",
        "print(a)"
      ]
    },
    {
      "cell_type": "code",
      "source": [
        "str1 = \"Company144\"\n",
        "\n",
        "i = str1.isalnum()\n",
        "\n",
        "print(i)"
      ],
      "metadata": {
        "colab": {
          "base_uri": "https://localhost:8080/"
        },
        "id": "8zAm5CGJfIYb",
        "outputId": "1affce24-7371-4419-cc28-097d97833e5a"
      },
      "execution_count": 8,
      "outputs": [
        {
          "output_type": "stream",
          "name": "stdout",
          "text": [
            "True\n"
          ]
        }
      ]
    },
    {
      "cell_type": "code",
      "source": [
        "o=open(\"isha.txt\")\n",
        "print(o.read())"
      ],
      "metadata": {
        "colab": {
          "base_uri": "https://localhost:8080/"
        },
        "id": "XtVxehnmg8i_",
        "outputId": "7cdb160c-ebf4-4226-d1c3-1a92f98872be"
      },
      "execution_count": 14,
      "outputs": [
        {
          "output_type": "stream",
          "name": "stdout",
          "text": [
            "my name is isha \n"
          ]
        }
      ]
    },
    {
      "cell_type": "code",
      "source": [],
      "metadata": {
        "id": "JQ-3fA-PinDx"
      },
      "execution_count": 14,
      "outputs": []
    },
    {
      "cell_type": "code",
      "source": [
        "o=open(\"isha.txt\")\n",
        "print(o.read())"
      ],
      "metadata": {
        "colab": {
          "base_uri": "https://localhost:8080/"
        },
        "id": "E45kz60Lh9RF",
        "outputId": "6c8f36b5-5341-4f5e-8799-43e0b8a4ba62"
      },
      "execution_count": 23,
      "outputs": [
        {
          "output_type": "stream",
          "name": "stdout",
          "text": [
            "my name is isha \n",
            "i am BCA student in alankar\n",
            "i am taking intern in python\n"
          ]
        }
      ]
    },
    {
      "cell_type": "code",
      "source": [
        "o=open(\"isha.txt\")\n",
        "for i in o:\n",
        "  print(i)"
      ],
      "metadata": {
        "colab": {
          "base_uri": "https://localhost:8080/"
        },
        "id": "0oG4OeDekVg5",
        "outputId": "4a4f8233-9117-4fbb-ffd1-990498cfe826"
      },
      "execution_count": 22,
      "outputs": [
        {
          "output_type": "stream",
          "name": "stdout",
          "text": [
            "my name is isha \n",
            "\n",
            "i am BCA student in alankar\n",
            "\n",
            "i am taking intern in python\n"
          ]
        }
      ]
    },
    {
      "cell_type": "code",
      "source": [
        "o=open(\"isha.txt\")\n",
        "print(o.readline())"
      ],
      "metadata": {
        "colab": {
          "base_uri": "https://localhost:8080/"
        },
        "id": "M_E7n0pUkuiP",
        "outputId": "39988999-2d60-4442-8291-10ffc6853763"
      },
      "execution_count": 24,
      "outputs": [
        {
          "output_type": "stream",
          "name": "stdout",
          "text": [
            "my name is isha \n",
            "\n"
          ]
        }
      ]
    },
    {
      "cell_type": "code",
      "source": [
        "o=open(\"isha.txt\",\"a\")\n",
        "o.write(\"\\n new file\")\n",
        "o.close()\n",
        "o=open(\"isha.txt\",\"r\")\n",
        "print(o.read())"
      ],
      "metadata": {
        "colab": {
          "base_uri": "https://localhost:8080/"
        },
        "id": "hkzU5HmilFh_",
        "outputId": "5d12af67-f743-4ac8-f98e-821724b15074"
      },
      "execution_count": 30,
      "outputs": [
        {
          "output_type": "stream",
          "name": "stdout",
          "text": [
            "my name is isha \n",
            "i am BCA student in alankar\n",
            "i am taking intern in python\n",
            " new file\n"
          ]
        }
      ]
    },
    {
      "cell_type": "code",
      "source": [
        "o=open(\"isha.txt\",\"r\")\n",
        "for i in o.readlines():\n",
        "  print(i)"
      ],
      "metadata": {
        "colab": {
          "base_uri": "https://localhost:8080/"
        },
        "id": "HXVBR7oYnC8k",
        "outputId": "5285256d-bee8-4074-f5c6-b79daf3f81d8"
      },
      "execution_count": 31,
      "outputs": [
        {
          "output_type": "stream",
          "name": "stdout",
          "text": [
            "my name is isha \n",
            "\n",
            "i am BCA student in alankar\n",
            "\n",
            "i am taking intern in python\n",
            "\n",
            " new file\n"
          ]
        }
      ]
    }
  ]
}