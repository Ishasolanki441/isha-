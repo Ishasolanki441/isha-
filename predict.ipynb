{
  "nbformat": 4,
  "nbformat_minor": 0,
  "metadata": {
    "colab": {
      "provenance": [],
      "authorship_tag": "ABX9TyM49AjVcnspbvEyFEt/PABC",
      "include_colab_link": true
    },
    "kernelspec": {
      "name": "python3",
      "display_name": "Python 3"
    },
    "language_info": {
      "name": "python"
    }
  },
  "cells": [
    {
      "cell_type": "markdown",
      "metadata": {
        "id": "view-in-github",
        "colab_type": "text"
      },
      "source": [
        "<a href=\"https://colab.research.google.com/github/Ishasolanki441/isha-/blob/main/predict.ipynb\" target=\"_parent\"><img src=\"https://colab.research.google.com/assets/colab-badge.svg\" alt=\"Open In Colab\"/></a>"
      ]
    },
    {
      "cell_type": "code",
      "execution_count": 10,
      "metadata": {
        "colab": {
          "base_uri": "https://localhost:8080/"
        },
        "id": "9Yvuzl0dbWzF",
        "outputId": "7ce64734-ed9c-4e0d-97a9-b4b2af9e4587"
      },
      "outputs": [
        {
          "output_type": "stream",
          "name": "stdout",
          "text": [
            "[ 100  200  300  400  500  600  700  800  900 1000]\n",
            "[ 2000  3000  4000  5000  6000  7000  8000  9000 11000 11500]\n",
            "home_train: [1000  300  500  400  100]\n",
            "home_test: [600 700 800 900 200]\n",
            "price_train: [11500  4000  6000  5000  2000]\n",
            "price_test: [ 7000  8000  9000 11000  3000]\n"
          ]
        }
      ],
      "source": [
        "import numpy as np\n",
        "\n",
        "from sklearn.model_selection import train_test_split\n",
        "home=np.array([100,200,300,400,500,600,700,800,900,1000])\n",
        "price= np.array([2000,3000,4000,5000,6000,7000,8000,9000,11000,11500])\n",
        "print(home)\n",
        "print(price)\n",
        "home_train, home_test, price_train, price_test = train_test_split(\n",
        " home,price, random_state=41, test_size=0.5, shuffle=True)\n",
        "print(\"home_train:\",home_train)\n",
        "print(\"home_test:\",home_test)\n",
        "print(\"price_train:\",price_train)\n",
        "print(\"price_test:\",price_test)\n",
        "\n"
      ]
    },
    {
      "cell_type": "code",
      "source": [
        "import numpy as np\n",
        "import sklearn as sk\n",
        "from sklearn.model_selection import train_test_split\n",
        "from sklearn.linear_model import LinearRegression\n",
        "home=np.array([1,2,3,4,5])\n",
        "price= np.array([200,300,400,500,600])\n",
        "print(home)\n",
        "print(price)\n",
        "home_train, home_test, price_train, price_test = train_test_split(\n",
        " home,price, random_state=41, test_size=0.5, shuffle=True)\n",
        "print(\"home_train:\",home_train)\n",
        "print(\"home_test:\",home_test)\n",
        "print(\"price_train:\",price_train)\n",
        "print(\"price_test:\",price_test)\n",
        "home_train = home_train.reshape(-1,1)\n",
        "home_test = home_test.reshape(-1,1)\n",
        "price_train = price_train.reshape(-1,1)\n",
        "price_test = price_test.reshape(-1,1)\n",
        "regr = LinearRegression()\n",
        "\n",
        "regr.fit(home_train,price_train)\n",
        "print(regr.score(home_test.reshape(-1,1),price_test,price_test.reshape(-1,1)))\n",
        "print(regr.predict(home_test.reshape(-1,1)))"
      ],
      "metadata": {
        "colab": {
          "base_uri": "https://localhost:8080/"
        },
        "id": "HxxD2r_OeZZm",
        "outputId": "f5233439-b49c-44ee-b128-8d04a9b72f6e"
      },
      "execution_count": 15,
      "outputs": [
        {
          "output_type": "stream",
          "name": "stdout",
          "text": [
            "[1 2 3 4 5]\n",
            "[200 300 400 500 600]\n",
            "home_train: [4 1]\n",
            "home_test: [2 3 5]\n",
            "price_train: [500 200]\n",
            "price_test: [300 400 600]\n",
            "1.0\n",
            "[[300.]\n",
            " [400.]\n",
            " [600.]]\n"
          ]
        }
      ]
    }
  ]
}