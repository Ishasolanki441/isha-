{
  "nbformat": 4,
  "nbformat_minor": 0,
  "metadata": {
    "colab": {
      "provenance": [],
      "authorship_tag": "ABX9TyOvSpFhd9sZvGZC7p3KHVwU",
      "include_colab_link": true
    },
    "kernelspec": {
      "name": "python3",
      "display_name": "Python 3"
    },
    "language_info": {
      "name": "python"
    }
  },
  "cells": [
    {
      "cell_type": "markdown",
      "metadata": {
        "id": "view-in-github",
        "colab_type": "text"
      },
      "source": [
        "<a href=\"https://colab.research.google.com/github/Ishasolanki441/isha-/blob/main/user_input.ipynb\" target=\"_parent\"><img src=\"https://colab.research.google.com/assets/colab-badge.svg\" alt=\"Open In Colab\"/></a>"
      ]
    },
    {
      "cell_type": "code",
      "execution_count": 9,
      "metadata": {
        "colab": {
          "base_uri": "https://localhost:8080/"
        },
        "id": "ERCUUNSUdsRW",
        "outputId": "e35ddfc7-aca9-46b4-afb2-939f5d9faf03"
      },
      "outputs": [
        {
          "output_type": "stream",
          "name": "stdout",
          "text": [
            "Enter age: 47\n",
            "this age is not correct\n",
            "Enter age: 38\n",
            "this age is not correct\n",
            "Enter age: 16\n",
            "The age is correct\n"
          ]
        }
      ],
      "source": [
        " a = []\n",
        " while True:\n",
        "    age = int(input(\"Enter age: \"))\n",
        "    if age<=20:\n",
        "      print(\"The age is correct\")\n",
        "      break;\n",
        "    else:\n",
        "     print(\"this age is not correct\")\n",
        "     continue\n",
        "     a.append(age)\n",
        "     print(age)"
      ]
    },
    {
      "cell_type": "code",
      "source": [
        "import random\n",
        "\n",
        "actions = ['rock', 'paper', 'scissors']\n",
        "\n",
        "my_choice = input('Enter your choice (rock, paper or scissors): ')\n",
        "\n",
        "program_choice = random.choice(actions)\n",
        "\n",
        "print(f\"Your choice {my_choice}, computer choice {program_choice}\\n\")\n",
        "\n",
        "if my_choice == program_choice:\n",
        "    print(f\"Both players selected {my_choice}. It's a tie!\")\n",
        "elif my_choice == \"rock\":\n",
        "    if program_choice == \"scissors\":\n",
        "        print(\"You win! because Rock smashes scissors.\")\n",
        "    else:\n",
        "        print(\"You lose :( Paper covers rock!\")\n",
        "elif my_choice == \"paper\":\n",
        "    if program_choice == \"rock\":\n",
        "        print(\"You win! because Paper covers rock.\")\n",
        "    else:\n",
        "        print(\"You lose :( Scissors cuts paper!\")\n",
        "elif my_choice == \"scissors\":\n",
        "    if program_choice == \"paper\":\n",
        "        print(\"You win! because Scissors cuts paper.\")\n",
        "    else:\n",
        "        print(\"You lose :( Rock smashes scissors!\")\n"
      ],
      "metadata": {
        "colab": {
          "base_uri": "https://localhost:8080/"
        },
        "id": "8iALbSDMmOUb",
        "outputId": "44e498c1-d35b-474c-e89d-79c4451eaa7c"
      },
      "execution_count": 10,
      "outputs": [
        {
          "output_type": "stream",
          "name": "stdout",
          "text": [
            "Enter your choice (rock, paper or scissors): rock\n",
            "Your choice rock, computer choice paper\n",
            "\n",
            "You lose :( Paper covers rock!\n"
          ]
        }
      ]
    }
  ]
}