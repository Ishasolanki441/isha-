{
  "nbformat": 4,
  "nbformat_minor": 0,
  "metadata": {
    "colab": {
      "provenance": [],
      "authorship_tag": "ABX9TyNUfYpl5y0bTaMSqwH70V4h",
      "include_colab_link": true
    },
    "kernelspec": {
      "name": "python3",
      "display_name": "Python 3"
    },
    "language_info": {
      "name": "python"
    }
  },
  "cells": [
    {
      "cell_type": "markdown",
      "metadata": {
        "id": "view-in-github",
        "colab_type": "text"
      },
      "source": [
        "<a href=\"https://colab.research.google.com/github/Ishasolanki441/isha-/blob/main/Untitled8.ipynb\" target=\"_parent\"><img src=\"https://colab.research.google.com/assets/colab-badge.svg\" alt=\"Open In Colab\"/></a>"
      ]
    },
    {
      "cell_type": "code",
      "execution_count": 1,
      "metadata": {
        "colab": {
          "base_uri": "https://localhost:8080/"
        },
        "id": "zMqz7Tm3ZMk7",
        "outputId": "58e51461-6f7a-43b2-b6af-8423c35c24e4"
      },
      "outputs": [
        {
          "output_type": "stream",
          "name": "stdout",
          "text": [
            "Variable a is not defined\n"
          ]
        }
      ],
      "source": [
        "try:\n",
        "  print(a)\n",
        "except NameError:\n",
        "  print(\"Variable a is not defined\")\n"
      ]
    },
    {
      "cell_type": "code",
      "source": [
        "user=int(input())\n",
        "try:\n",
        "  for i in range(0,user):\n",
        "print(i)\n",
        "   if a>=5:\n",
        "    raise Exception(\"user is equal to 5\")\n",
        "except Execption as b:\n",
        "  print(b)"
      ],
      "metadata": {
        "colab": {
          "base_uri": "https://localhost:8080/",
          "height": 140
        },
        "id": "UvPLDSa7Zssg",
        "outputId": "92621f95-0dcd-4dfc-80f1-dbc71eb88b79"
      },
      "execution_count": 15,
      "outputs": [
        {
          "output_type": "error",
          "ename": "IndentationError",
          "evalue": "expected an indented block after 'for' statement on line 3 (<ipython-input-15-a6f2b2fc0811>, line 4)",
          "traceback": [
            "\u001b[0;36m  File \u001b[0;32m\"<ipython-input-15-a6f2b2fc0811>\"\u001b[0;36m, line \u001b[0;32m4\u001b[0m\n\u001b[0;31m    print(i)\u001b[0m\n\u001b[0m            ^\u001b[0m\n\u001b[0;31mIndentationError\u001b[0m\u001b[0;31m:\u001b[0m expected an indented block after 'for' statement on line 3\n"
          ]
        }
      ]
    }
  ]
}