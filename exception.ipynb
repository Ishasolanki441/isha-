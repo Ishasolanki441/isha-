{
  "nbformat": 4,
  "nbformat_minor": 0,
  "metadata": {
    "colab": {
      "provenance": [],
      "authorship_tag": "ABX9TyMZE2ompcdZ5EhCBJyPBy0J",
      "include_colab_link": true
    },
    "kernelspec": {
      "name": "python3",
      "display_name": "Python 3"
    },
    "language_info": {
      "name": "python"
    }
  },
  "cells": [
    {
      "cell_type": "markdown",
      "metadata": {
        "id": "view-in-github",
        "colab_type": "text"
      },
      "source": [
        "<a href=\"https://colab.research.google.com/github/Ishasolanki441/isha-/blob/main/exception.ipynb\" target=\"_parent\"><img src=\"https://colab.research.google.com/assets/colab-badge.svg\" alt=\"Open In Colab\"/></a>"
      ]
    },
    {
      "cell_type": "code",
      "execution_count": 1,
      "metadata": {
        "colab": {
          "base_uri": "https://localhost:8080/"
        },
        "id": "zMqz7Tm3ZMk7",
        "outputId": "58e51461-6f7a-43b2-b6af-8423c35c24e4"
      },
      "outputs": [
        {
          "output_type": "stream",
          "name": "stdout",
          "text": [
            "Variable a is not defined\n"
          ]
        }
      ],
      "source": [
        "try:\n",
        "  print(a)\n",
        "except NameError:\n",
        "  print(\"Variable a is not defined\")\n"
      ]
    },
    {
      "cell_type": "code",
      "source": [
        "from logging import exception\n",
        "user=int(input())\n",
        "for i in range(0,user):\n",
        "  try:\n",
        "\n",
        "    print(i)\n",
        "    if i>=5:\n",
        "     raise Exception(\"user is equal to 5\")\n",
        "  except Exception as b:\n",
        "    print(b)"
      ],
      "metadata": {
        "colab": {
          "base_uri": "https://localhost:8080/"
        },
        "id": "UvPLDSa7Zssg",
        "outputId": "f17e9075-b207-4056-fe1c-3d40fd8b4f56"
      },
      "execution_count": 21,
      "outputs": [
        {
          "output_type": "stream",
          "name": "stdout",
          "text": [
            "6\n",
            "0\n",
            "1\n",
            "2\n",
            "3\n",
            "4\n",
            "5\n",
            "user is equal to 5\n"
          ]
        }
      ]
    },
    {
      "cell_type": "code",
      "source": [
        "from logging import exception\n",
        "user=int(input())\n",
        "for i in range(0,user):\n",
        "  try:\n",
        "\n",
        "    print(i)\n",
        "    if i>=5:\n",
        "     raise Exception(\"user is equal to 5\")\n",
        "  except Exception as b:\n",
        "    print(b)\n",
        "  finally:\n",
        "    print(\"isha\")"
      ],
      "metadata": {
        "colab": {
          "base_uri": "https://localhost:8080/"
        },
        "id": "YIsWjyABhPWc",
        "outputId": "878fea26-9b1f-4d92-feeb-58ce250d2c73"
      },
      "execution_count": 22,
      "outputs": [
        {
          "output_type": "stream",
          "name": "stdout",
          "text": [
            "6\n",
            "0\n",
            "isha\n",
            "1\n",
            "isha\n",
            "2\n",
            "isha\n",
            "3\n",
            "isha\n",
            "4\n",
            "isha\n",
            "5\n",
            "user is equal to 5\n",
            "isha\n"
          ]
        }
      ]
    },
    {
      "cell_type": "markdown",
      "source": [
        "from logging import exception\n",
        "user=int(input())\n",
        "for i in range(0,user):\n",
        "  try:\n",
        "    print(i)\n",
        "    if i>=5:\n",
        "      raise Exception(\"user is equal to 5\")\n",
        "  except Exception as b:\n",
        "    print(b)\n",
        "  finally:\n",
        "    print(\"isha\")"
      ],
      "metadata": {
        "id": "HoL-FgC-h3gF"
      }
    },
    {
      "cell_type": "code",
      "source": [
        "from logging import exception\n",
        "user=int(input())\n",
        "for i in range(0,user):\n",
        "  try:\n",
        "\n",
        "    print(i)\n",
        "    if i>=5:\n",
        "     raise Exception(\"user is equal to 5\")\n",
        "  except Exception as b:\n",
        "    print(b)\n",
        "  else:\n",
        "    print(\"solanki\")\n",
        "  finally:\n",
        "    print(\"isha\")\n",
        ""
      ],
      "metadata": {
        "colab": {
          "base_uri": "https://localhost:8080/"
        },
        "id": "K0AyoV22jFms",
        "outputId": "f4b9d0f6-1929-46cc-a217-a9e93528a8fb"
      },
      "execution_count": 27,
      "outputs": [
        {
          "output_type": "stream",
          "name": "stdout",
          "text": [
            "7\n",
            "0\n",
            "solanki\n",
            "isha\n",
            "1\n",
            "solanki\n",
            "isha\n",
            "2\n",
            "solanki\n",
            "isha\n",
            "3\n",
            "solanki\n",
            "isha\n",
            "4\n",
            "solanki\n",
            "isha\n",
            "5\n",
            "user is equal to 5\n",
            "isha\n",
            "6\n",
            "user is equal to 5\n",
            "isha\n"
          ]
        }
      ]
    }
  ]
}