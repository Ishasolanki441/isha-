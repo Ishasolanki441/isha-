{
  "nbformat": 4,
  "nbformat_minor": 0,
  "metadata": {
    "colab": {
      "provenance": [],
      "authorship_tag": "ABX9TyMyt7WTyFenpC2lNHxgWdbm",
      "include_colab_link": true
    },
    "kernelspec": {
      "name": "python3",
      "display_name": "Python 3"
    },
    "language_info": {
      "name": "python"
    }
  },
  "cells": [
    {
      "cell_type": "markdown",
      "metadata": {
        "id": "view-in-github",
        "colab_type": "text"
      },
      "source": [
        "<a href=\"https://colab.research.google.com/github/Ishasolanki441/isha-/blob/main/Untitled4.ipynb\" target=\"_parent\"><img src=\"https://colab.research.google.com/assets/colab-badge.svg\" alt=\"Open In Colab\"/></a>"
      ]
    },
    {
      "cell_type": "code",
      "execution_count": 4,
      "metadata": {
        "colab": {
          "base_uri": "https://localhost:8080/"
        },
        "id": "Vx8oV0omkKDm",
        "outputId": "b96139b0-7f7c-49c5-ad8d-4bf141127058"
      },
      "outputs": [
        {
          "output_type": "stream",
          "name": "stdout",
          "text": [
            "('isha', 'solnki')\n"
          ]
        }
      ],
      "source": [
        "tuple=('isha','solnki')\n",
        "print(tuple)"
      ]
    },
    {
      "cell_type": "code",
      "source": [
        "tuple_result=('isha','solanki')\n",
        "print(tuple_result)"
      ],
      "metadata": {
        "colab": {
          "base_uri": "https://localhost:8080/"
        },
        "id": "vLO0k3-1m0WE",
        "outputId": "8b7618a2-e0f6-4c1f-c78b-ef72524f922f"
      },
      "execution_count": 13,
      "outputs": [
        {
          "output_type": "stream",
          "name": "stdout",
          "text": [
            "('isha', 'solanki')\n"
          ]
        }
      ]
    },
    {
      "cell_type": "code",
      "source": [
        "tuple=('arun','raghv','shreyansh')\n",
        "tuple.index('shreyansh')"
      ],
      "metadata": {
        "colab": {
          "base_uri": "https://localhost:8080/"
        },
        "id": "BOqqxG_ypL5x",
        "outputId": "6b7990f4-1b2b-411c-d657-7046ac9f29d9"
      },
      "execution_count": 14,
      "outputs": [
        {
          "output_type": "execute_result",
          "data": {
            "text/plain": [
              "2"
            ]
          },
          "metadata": {},
          "execution_count": 14
        }
      ]
    },
    {
      "cell_type": "code",
      "source": [
        "a=(\"isha\")\n",
        "a_append=a+(\"solanki\")\n",
        "print(a_append)\n",
        "print(a)"
      ],
      "metadata": {
        "colab": {
          "base_uri": "https://localhost:8080/"
        },
        "id": "6sW-LjhnqAn2",
        "outputId": "a999da62-8e90-4270-e623-ded89d268efc"
      },
      "execution_count": 16,
      "outputs": [
        {
          "output_type": "stream",
          "name": "stdout",
          "text": [
            "ishasolanki\n",
            "isha\n"
          ]
        }
      ]
    },
    {
      "cell_type": "code",
      "source": [
        "tuple=(\"isha\",\"solanki\")\n",
        "del tuple\n",
        "print(\"after delete\")\n",
        "print(\"isha singh\")"
      ],
      "metadata": {
        "colab": {
          "base_uri": "https://localhost:8080/"
        },
        "id": "JwfUIHJHrL6i",
        "outputId": "d1fe209f-0a14-45c0-ef60-d67193c66c07"
      },
      "execution_count": 17,
      "outputs": [
        {
          "output_type": "stream",
          "name": "stdout",
          "text": [
            "after delete\n",
            "isha singh\n"
          ]
        }
      ]
    },
    {
      "cell_type": "code",
      "source": [
        "fruits=(\"mango\",\"guava\",\"grapes\",\"mango\")\n",
        "res=[]\n",
        "for j in range(len(fruits)):\n",
        "  my_fruit=fruits[j]\n",
        "  count=0\n",
        "  for i in range(len(fruits)):\n",
        "     if i==j:\n",
        "      continue\n",
        "     if fruits[i]==fruits[j]:\n",
        "        count+=1\n",
        "  if count>0:\n",
        "     if fruits[j] not in res:\n",
        "      res.append(my_fruit)\n",
        "print(res)\n"
      ],
      "metadata": {
        "colab": {
          "base_uri": "https://localhost:8080/"
        },
        "id": "o8YfqFpir54k",
        "outputId": "da4967df-ff8d-4c75-d428-e4769760c503"
      },
      "execution_count": 44,
      "outputs": [
        {
          "output_type": "stream",
          "name": "stdout",
          "text": [
            "['mango']\n"
          ]
        }
      ]
    },
    {
      "cell_type": "code",
      "source": [
        "tuple=[\"orange\",\"mango\",\"kiwi\"]\n",
        "tuple.remove(\"mango\")\n",
        "tuple.append(\"banana\")\n",
        "tuple.insert(3,\"papaya\")\n",
        "print(tuple)"
      ],
      "metadata": {
        "colab": {
          "base_uri": "https://localhost:8080/"
        },
        "id": "BRNMZUFI4ojh",
        "outputId": "c51ac2b9-6edd-49af-bbe0-66aec69854ff"
      },
      "execution_count": 54,
      "outputs": [
        {
          "output_type": "stream",
          "name": "stdout",
          "text": [
            "['orange', 'kiwi', 'banana', 'papaya']\n"
          ]
        }
      ]
    }
  ]
}